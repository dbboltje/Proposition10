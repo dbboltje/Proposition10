{
 "cells": [
  {
   "cell_type": "code",
   "execution_count": null,
   "id": "f5a216c5-506e-4b0a-b828-a4e642282809",
   "metadata": {},
   "outputs": [
    {
     "data": {
      "text/plain": [
       "Text(0, 0.5, '$\\\\frac{\\\\mathrm{N_{FTE}}}{\\\\mathrm{N_{students}\\\\;\\\\cdot\\\\;N_{Doctoral\\\\;defences}\\\\;\\\\cdot\\\\;N_{Publications}}}$')"
      ]
     },
     "execution_count": 1,
     "metadata": {},
     "output_type": "execute_result"
    }
   ],
   "source": [
    "import pandas as pd\n",
    "import matplotlib.pyplot as plt\n",
    "\n",
    "# Retrieved from the CBS website\n",
    "totpers = pd.read_excel(\"Personeelaantallen.xlsx\")['Totaal']\n",
    "totpers.index += 2003\n",
    "\n",
    "# Retrieved from the CBS website\n",
    "wo = pd.read_csv(\"WO_aantallen_2001-2024.csv\", sep=\";\")['Leerlingen/studenten (aantal)']\n",
    "wo.index += 2001\n",
    "\n",
    "# Retrieved from the CBS website\n",
    "df = pd.read_csv(\"U-7-Aantal-promoties-NL-man-vrouw.csv\", sep=\";\", index_col=0)\n",
    "promoties = df.Mannen + df.Vrouwen\n",
    "\n",
    "# Retrieved from the Web of Science platform by searching for scientific articles with (co)authors having an affiliation at a Dutch university\n",
    "publicaties = pd.read_csv(\"WOS-publicaties.txt\", sep=\"\\t\", index_col=0)['Record Count']\n",
    "\n",
    "plt.figure(dpi=150)\n",
    "plt.plot(totpers/(wo*promoties*publicaties), 'ok')\n",
    "plt.xlabel(\"Year\")\n",
    "plt.ylabel(r\"$\\frac{\\mathrm{N_{FTE}}}{\\mathrm{N_{students}\\;\\cdot\\;N_{Doctoral\\;defences}\\;\\cdot\\;N_{Publications}}}$\", fontsize=16)"
   ]
  },
  {
   "cell_type": "code",
   "execution_count": null,
   "id": "bce22af7-a6c0-4d46-bb69-a19d0b11087f",
   "metadata": {},
   "outputs": [],
   "source": []
  }
 ],
 "metadata": {
  "kernelspec": {
   "display_name": "Python 3 (ipykernel)",
   "language": "python",
   "name": "python3"
  },
  "language_info": {
   "codemirror_mode": {
    "name": "ipython",
    "version": 3
   },
   "file_extension": ".py",
   "mimetype": "text/x-python",
   "name": "python",
   "nbconvert_exporter": "python",
   "pygments_lexer": "ipython3",
   "version": "3.11.7"
  }
 },
 "nbformat": 4,
 "nbformat_minor": 5
}
